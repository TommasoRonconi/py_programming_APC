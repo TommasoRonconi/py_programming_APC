{
 "cells": [
  {
   "cell_type": "markdown",
   "id": "abd6359e",
   "metadata": {},
   "source": [
    "# Joys & sorrows of the astro-person: datasets & catalogues\n",
    "\n",
    "You will eventually encounter in your research these guys.\n",
    "\n",
    "Either containing stellar tracks, dark matter haloes, spectra, images..\n",
    "\n",
    "Either being real or simulated\n",
    "\n",
    "Both if you are a theoretician or an observational astronomer (or cosmologist), you will have to deal with datasets.\n",
    "And in general these datasets are organised in catalogues (or similar).\n",
    "\n",
    "Fear not! Python is a great language for the inspection and analysis of these entities!\n",
    "\n",
    "* **ASCII**\n",
    "     - **TXT**\n",
    "     - **CSV**\n",
    "* **BINARY**\n",
    "     - **FITS**\n",
    "     - **HDF5**\n",
    "     - **Pickle**\n"
   ]
  },
  {
   "cell_type": "markdown",
   "id": "22b6ede4",
   "metadata": {},
   "source": [
    "To analyse the datasets:"
   ]
  },
  {
   "cell_type": "code",
   "execution_count": null,
   "id": "22ccad13",
   "metadata": {},
   "outputs": [],
   "source": [
    "import numpy"
   ]
  },
  {
   "cell_type": "markdown",
   "id": "dcba0caf",
   "metadata": {},
   "source": [
    "To move around the filesystem:"
   ]
  },
  {
   "cell_type": "code",
   "execution_count": null,
   "id": "57d3f921",
   "metadata": {},
   "outputs": [],
   "source": [
    "import os"
   ]
  },
  {
   "cell_type": "markdown",
   "id": "fdeab364",
   "metadata": {},
   "source": [
    "Some coordinates:"
   ]
  },
  {
   "cell_type": "code",
   "execution_count": null,
   "id": "a6e2b0ad",
   "metadata": {},
   "outputs": [],
   "source": [
    "basedir = '../datasets'"
   ]
  },
  {
   "cell_type": "markdown",
   "id": "7d08e823",
   "metadata": {},
   "source": [
    "## Load a dataset from ASCII"
   ]
  },
  {
   "cell_type": "code",
   "execution_count": null,
   "id": "9544c5c4",
   "metadata": {},
   "outputs": [],
   "source": [
    "os.path.join(basedir,'haloes_64Mpc_512p_planck18_z3.txt')"
   ]
  },
  {
   "cell_type": "code",
   "execution_count": null,
   "id": "a37d74fc",
   "metadata": {},
   "outputs": [],
   "source": [
    "Masses = numpy.genfromtxt(os.path.join(basedir,'haloes_64Mpc_512p_planck18_z3.txt'), \n",
    "                          usecols=(3,), unpack=True)\n",
    "Lbox = 64 # Mpc/h\n",
    "Volume = Lbox**3 # (Mpc/h)^3\n",
    "Npart = 512**3"
   ]
  },
  {
   "cell_type": "markdown",
   "id": "a0daa07e",
   "metadata": {},
   "source": [
    "But first let's inspect what we have loaded, e.g."
   ]
  },
  {
   "cell_type": "markdown",
   "id": "0a9788ae",
   "metadata": {},
   "source": [
    "* limits:"
   ]
  },
  {
   "cell_type": "code",
   "execution_count": null,
   "id": "a476690d",
   "metadata": {},
   "outputs": [],
   "source": [
    "type(Masses), Masses.shape, Masses.size"
   ]
  },
  {
   "cell_type": "code",
   "execution_count": null,
   "id": "231f0cd6",
   "metadata": {},
   "outputs": [],
   "source": [
    "Masses"
   ]
  },
  {
   "cell_type": "code",
   "execution_count": null,
   "id": "4a127738",
   "metadata": {},
   "outputs": [],
   "source": [
    "Masses.argmin()"
   ]
  },
  {
   "cell_type": "code",
   "execution_count": null,
   "id": "d9616dec",
   "metadata": {},
   "outputs": [],
   "source": [
    "(Masses.min(), Masses.max())"
   ]
  },
  {
   "cell_type": "markdown",
   "id": "7e88ee4f",
   "metadata": {},
   "source": [
    "We do not like those zeros, so we are going to mask them!"
   ]
  },
  {
   "cell_type": "code",
   "execution_count": null,
   "id": "048d6a65",
   "metadata": {},
   "outputs": [],
   "source": [
    "wMn0 = Masses > 0.0"
   ]
  },
  {
   "cell_type": "code",
   "execution_count": null,
   "id": "659d1805",
   "metadata": {},
   "outputs": [],
   "source": [
    "wMn0.size"
   ]
  },
  {
   "cell_type": "code",
   "execution_count": null,
   "id": "1126ee16",
   "metadata": {},
   "outputs": [],
   "source": [
    "Masses[wMn0].size"
   ]
  },
  {
   "cell_type": "code",
   "execution_count": null,
   "id": "b38bde1f",
   "metadata": {},
   "outputs": [],
   "source": [
    "Masses = Masses[Masses > 0.0]"
   ]
  },
  {
   "cell_type": "code",
   "execution_count": null,
   "id": "d005c881",
   "metadata": {},
   "outputs": [],
   "source": [
    "numpy.log10((Masses.min(), Masses.max()))"
   ]
  },
  {
   "cell_type": "markdown",
   "id": "e863bbde",
   "metadata": {},
   "source": [
    "Great, how many values do we have?"
   ]
  },
  {
   "cell_type": "code",
   "execution_count": null,
   "id": "ed18c0b3",
   "metadata": {},
   "outputs": [],
   "source": [
    "Masses.size"
   ]
  },
  {
   "cell_type": "markdown",
   "id": "2216656f",
   "metadata": {},
   "source": [
    "## Let's do some visual inspection with ``matplotlib``\n",
    "\n",
    "Where to start: [the examples page](https://matplotlib.org/stable/gallery/index.html) "
   ]
  },
  {
   "cell_type": "code",
   "execution_count": null,
   "id": "923353fe",
   "metadata": {},
   "outputs": [],
   "source": [
    "import matplotlib.pyplot as plt"
   ]
  },
  {
   "cell_type": "markdown",
   "id": "aba0ff43",
   "metadata": {},
   "source": [
    "We want to compute the halo mass function\n",
    "\n",
    "$$n(M_\\text{halo}) = \\dfrac{d n(M_\\text{halo} \\in [M,M+dM))}{d\\ln M_\\text{halo}}$$\n",
    "\n",
    "is given by the **numerical density of haloes per logarithmic mass bin**."
   ]
  },
  {
   "cell_type": "code",
   "execution_count": null,
   "id": "fcfdfe66",
   "metadata": {},
   "outputs": [],
   "source": [
    "NMDM, MDM_bins = numpy.histogram(Masses, bins=numpy.logspace(8.5, 14, 21))"
   ]
  },
  {
   "cell_type": "code",
   "execution_count": null,
   "id": "e0429540",
   "metadata": {},
   "outputs": [],
   "source": [
    "MDM = 0.5 * (MDM_bins[1:]+MDM_bins[:-1])"
   ]
  },
  {
   "cell_type": "code",
   "execution_count": null,
   "id": "45eeb96f",
   "metadata": {},
   "outputs": [],
   "source": [
    "dlnMDM = numpy.diff(numpy.log(MDM_bins))"
   ]
  },
  {
   "cell_type": "code",
   "execution_count": null,
   "id": "99c81ebd",
   "metadata": {},
   "outputs": [],
   "source": [
    "nMDM = NMDM / dlnMDM / Volume"
   ]
  },
  {
   "cell_type": "code",
   "execution_count": null,
   "id": "a0f7f9fd",
   "metadata": {},
   "outputs": [],
   "source": [
    "plt.loglog(MDM, nMDM, marker='o', linestyle='none')"
   ]
  },
  {
   "cell_type": "markdown",
   "id": "95a8a5ec",
   "metadata": {},
   "source": [
    "Remember that we are scientists, what do we miss here? **THE ERROR!!!!**"
   ]
  },
  {
   "cell_type": "code",
   "execution_count": null,
   "id": "1209067e",
   "metadata": {},
   "outputs": [],
   "source": [
    "nMDM_err = numpy.sqrt(NMDM) / dlnMDM / Volume"
   ]
  },
  {
   "cell_type": "markdown",
   "id": "a616ef86",
   "metadata": {},
   "source": [
    "And maybe some physical limit to assess the validity of the data-set"
   ]
  },
  {
   "cell_type": "code",
   "execution_count": null,
   "id": "49468444",
   "metadata": {},
   "outputs": [],
   "source": [
    "from astropy.cosmology import Planck18\n",
    "import astropy.units as u"
   ]
  },
  {
   "cell_type": "code",
   "execution_count": null,
   "id": "398f503b",
   "metadata": {},
   "outputs": [],
   "source": [
    "Mpart = (Planck18.critical_density0*Planck18.Odm0).to(u.Msun/(u.Mpc)**3)*Volume/Npart"
   ]
  },
  {
   "cell_type": "code",
   "execution_count": null,
   "id": "43aa571c",
   "metadata": {},
   "outputs": [],
   "source": [
    "Mpart*100"
   ]
  },
  {
   "cell_type": "markdown",
   "id": "de239ae5",
   "metadata": {},
   "source": [
    "So a better way of plotting this bad guy is as follows"
   ]
  },
  {
   "cell_type": "code",
   "execution_count": null,
   "id": "92e6add6",
   "metadata": {},
   "outputs": [],
   "source": [
    "Mpart.value"
   ]
  },
  {
   "cell_type": "code",
   "execution_count": null,
   "id": "bf90d486",
   "metadata": {},
   "outputs": [],
   "source": [
    "fig, ax = plt.subplots(1,1)\n",
    "\n",
    "ax.set(\n",
    "    xscale='log', yscale='log', \n",
    "    xlim=(1.e+9, 1.e+14),\n",
    "    xlabel='$M_\\\\mathrm{halo}\\\\ [M_\\\\odot]$',\n",
    "    ylabel='$n(M_\\\\mathrm{halo})\\\\ [(Mpc/h)^{-3}]$'\n",
    ")\n",
    "ax.errorbar(MDM, nMDM, yerr=nMDM_err, ls='none', marker = 'o', color='k', label='mass function')\n",
    "ax.axvline(Mpart.value*100, color='gray', ls='--', label='resolution limit')\n",
    "ax.legend()"
   ]
  },
  {
   "cell_type": "markdown",
   "id": "cf52092c",
   "metadata": {},
   "source": [
    "and you could store it, also in a second moment:"
   ]
  },
  {
   "cell_type": "code",
   "execution_count": null,
   "id": "c2ae3fd8",
   "metadata": {},
   "outputs": [],
   "source": [
    "#fig.savefig('mass_function.png', bbox_inches='tight')"
   ]
  },
  {
   "cell_type": "markdown",
   "id": "fef27176",
   "metadata": {},
   "source": [
    "## FITS files \n",
    "\n",
    "Stands for **Flexible Image Transport System** and by the name you can infer why it is so used in astronomy.\n",
    "We will not work with images today, but consider that an image, most of the times, is just a 2D (one single channel) or a 3D (multiple channels) **MATRIX**.\n",
    "\n",
    "Therefore fits is a file format that is optimised to work with multi-dimensional arrays.\n",
    "\n",
    "It stores **data AND metadata** in binary format.\n",
    "\n",
    "Generates Header-Data Units (HDUs), which both contain the dataset and descriptive meta-data.\n",
    "\n",
    "> **metadata** are all of the informations on the dataset at hand that are useful to understand the actual dataset\n",
    "\n",
    "**Last but not least** since the nature of the metadata associated with a dataset encompasses also\n",
    "- the shape of a dataset\n",
    "- the data-type\n",
    "- where in the file the target dataset is stored\n",
    "FITS allows to not directly load in memory the dataset but only a **MEMORY MAP** of the dataset.\n",
    "This means it is possible to work with files larger than the available volatile memory of your system (at the cost of performances).\n",
    "\n",
    "The file we will use as example:"
   ]
  },
  {
   "cell_type": "code",
   "execution_count": null,
   "id": "cd709ae3",
   "metadata": {},
   "outputs": [],
   "source": [
    "filename = 'TRECS_HI+Continuum_z0.01.fits'"
   ]
  },
  {
   "cell_type": "markdown",
   "id": "df1c341d",
   "metadata": {},
   "source": [
    "[AstroPy](https://www.astropy.org/) is a useful library that contains a lot of stuff useful to the astronomer.\n",
    "\n",
    "**BUT REMEMBER THAT IT ALSO MISSES A LOT OF STUFF: DON'T RELY ON IT TOO MUCH**"
   ]
  },
  {
   "cell_type": "code",
   "execution_count": null,
   "id": "2c3153dc",
   "metadata": {},
   "outputs": [],
   "source": [
    "from astropy.io import fits"
   ]
  },
  {
   "cell_type": "markdown",
   "id": "9d346be0",
   "metadata": {},
   "source": [
    "By opening a ``fits`` file you are given a **LIST OF HDUs**"
   ]
  },
  {
   "cell_type": "code",
   "execution_count": null,
   "id": "48cd9d9f",
   "metadata": {},
   "outputs": [],
   "source": [
    "hdul = fits.open(os.path.join(basedir, filename.format(0.01)))"
   ]
  },
  {
   "cell_type": "markdown",
   "id": "395a2996",
   "metadata": {},
   "source": [
    "You can get some metadata on this:"
   ]
  },
  {
   "cell_type": "code",
   "execution_count": null,
   "id": "74448527",
   "metadata": {},
   "outputs": [],
   "source": [
    "hdul.info()"
   ]
  },
  {
   "cell_type": "markdown",
   "id": "9c27e629",
   "metadata": {},
   "source": [
    "Each HDU comes with an header"
   ]
  },
  {
   "cell_type": "code",
   "execution_count": null,
   "id": "405eced3",
   "metadata": {},
   "outputs": [],
   "source": [
    "hdul[0].header"
   ]
  },
  {
   "cell_type": "code",
   "execution_count": null,
   "id": "de9a8e2f",
   "metadata": {
    "scrolled": true
   },
   "outputs": [],
   "source": [
    "hdul[1].header"
   ]
  },
  {
   "cell_type": "markdown",
   "id": "728d139e",
   "metadata": {},
   "source": [
    "Since it is conceptually a table, you can access the different columns by calling the sub-object ``columns``"
   ]
  },
  {
   "cell_type": "code",
   "execution_count": null,
   "id": "8511a66d",
   "metadata": {},
   "outputs": [],
   "source": [
    "hdul[1].columns.names"
   ]
  },
  {
   "cell_type": "markdown",
   "id": "7bdfa1ad",
   "metadata": {},
   "source": [
    "We can assign it to a variable for convenience:"
   ]
  },
  {
   "cell_type": "code",
   "execution_count": null,
   "id": "2d3cea03",
   "metadata": {},
   "outputs": [],
   "source": [
    "columns = hdul[1].columns.names"
   ]
  },
  {
   "cell_type": "markdown",
   "id": "2457c7f7",
   "metadata": {},
   "source": [
    "## Once again on visual inspection with ``matplotlib``"
   ]
  },
  {
   "cell_type": "markdown",
   "id": "88ceef18",
   "metadata": {},
   "source": [
    "### Redshift distribution"
   ]
  },
  {
   "cell_type": "code",
   "execution_count": null,
   "id": "d92e9679",
   "metadata": {},
   "outputs": [],
   "source": [
    "zz = hdul[1].data['redshift']"
   ]
  },
  {
   "cell_type": "code",
   "execution_count": null,
   "id": "44bf37ed",
   "metadata": {},
   "outputs": [],
   "source": [
    "# zz = numpy.array(hdul[1].data['redshift'])"
   ]
  },
  {
   "cell_type": "code",
   "execution_count": null,
   "id": "319f7a86",
   "metadata": {},
   "outputs": [],
   "source": [
    "Nzbins, zbins, _ = plt.hist(zz, histtype='step')"
   ]
  },
  {
   "cell_type": "code",
   "execution_count": null,
   "id": "2b4753f0",
   "metadata": {},
   "outputs": [],
   "source": [
    "rng = numpy.random.default_rng( seed=123 )"
   ]
  },
  {
   "cell_type": "code",
   "execution_count": null,
   "id": "2f28c0e6",
   "metadata": {},
   "outputs": [],
   "source": [
    "rind = rng.integers(1, endpoint=True, size=zz.size, dtype=bool)"
   ]
  },
  {
   "cell_type": "raw",
   "id": "74e46037",
   "metadata": {},
   "source": [
    "rind = rng.uniform(size=zz.size)\n",
    "\n",
    "rind>0.5"
   ]
  },
  {
   "cell_type": "markdown",
   "id": "40b38583",
   "metadata": {},
   "source": [
    "Ok, it is quite uniform but these are a lot of objects (or they might be).\n",
    "\n",
    "#### EXERCISE: SUB-SAMPLE A DATASET\n",
    "\n",
    "Why not sub-sample it?"
   ]
  },
  {
   "cell_type": "code",
   "execution_count": null,
   "id": "d4f84f1d",
   "metadata": {},
   "outputs": [],
   "source": [
    "# insert here solution"
   ]
  },
  {
   "cell_type": "code",
   "execution_count": null,
   "id": "015fb7d0",
   "metadata": {},
   "outputs": [],
   "source": [
    "zz[rind]"
   ]
  },
  {
   "cell_type": "code",
   "execution_count": null,
   "id": "da436e7f",
   "metadata": {},
   "outputs": [],
   "source": [
    "nz, *_ = plt.hist(zz, histtype='step', density=True)\n",
    "nz_ss, *_ = plt.hist(zz[rind], histtype='step', density=True)"
   ]
  },
  {
   "cell_type": "code",
   "execution_count": null,
   "id": "cea822bb",
   "metadata": {},
   "outputs": [],
   "source": [
    "zcen = 0.5*(zbins[1:]+zbins[:-1])"
   ]
  },
  {
   "cell_type": "code",
   "execution_count": null,
   "id": "e285fb07",
   "metadata": {},
   "outputs": [],
   "source": [
    "plt.step(zcen, nz.cumsum())\n",
    "plt.step(zcen, nz_ss.cumsum())"
   ]
  },
  {
   "cell_type": "code",
   "execution_count": null,
   "id": "643f9d1d",
   "metadata": {},
   "outputs": [],
   "source": [
    "from scipy.stats import kstest"
   ]
  },
  {
   "cell_type": "code",
   "execution_count": null,
   "id": "934d1ddf",
   "metadata": {},
   "outputs": [],
   "source": [
    "kstest(nz.cumsum(), nz_ss.cumsum()).pvalue > 0.05"
   ]
  },
  {
   "cell_type": "markdown",
   "id": "1e7b2935",
   "metadata": {},
   "source": [
    "### Stellar-to-halo mass relation (SHMR)\n",
    "\n",
    "A.K.A. what stellar mass corresponds to heach DM halo mass?"
   ]
  },
  {
   "cell_type": "code",
   "execution_count": null,
   "id": "ca9d7bcf",
   "metadata": {},
   "outputs": [],
   "source": [
    "Mh = hdul[1].data['Mh']\n",
    "Ms = hdul[1].data['Mstar']"
   ]
  },
  {
   "cell_type": "code",
   "execution_count": null,
   "id": "8f7b882f",
   "metadata": {},
   "outputs": [],
   "source": [
    "Ms.size"
   ]
  },
  {
   "cell_type": "code",
   "execution_count": null,
   "id": "63b5dca5",
   "metadata": {},
   "outputs": [],
   "source": [
    "plt.scatter(Mh, Ms, marker='.')"
   ]
  },
  {
   "cell_type": "code",
   "execution_count": null,
   "id": "fdd406ee",
   "metadata": {},
   "outputs": [],
   "source": [
    "wMs = Ms > 0.0"
   ]
  },
  {
   "cell_type": "code",
   "execution_count": null,
   "id": "87be7e0a",
   "metadata": {},
   "outputs": [],
   "source": [
    "wMs.dtype, wMs.size, wMs.sum()"
   ]
  },
  {
   "cell_type": "code",
   "execution_count": null,
   "id": "9876522e",
   "metadata": {},
   "outputs": [],
   "source": [
    "plt.scatter(Mh[wMs], Ms[wMs], marker='.')"
   ]
  },
  {
   "cell_type": "markdown",
   "id": "0c6da991",
   "metadata": {},
   "source": [
    "Is this plot helpful? Not very much.. you just see a cloud of points, but you can understand some stuff from it, like what?"
   ]
  },
  {
   "cell_type": "markdown",
   "id": "4fcbe93f",
   "metadata": {},
   "source": [
    "### EXERCISE: ANSWER THE QUESTIONS ABOVE AND DESIGN A BETTER PLOT"
   ]
  },
  {
   "cell_type": "code",
   "execution_count": null,
   "id": "3d266fb0",
   "metadata": {},
   "outputs": [],
   "source": [
    "# insert here solution"
   ]
  },
  {
   "cell_type": "markdown",
   "id": "cbb685dd",
   "metadata": {},
   "source": [
    "## To conclude, we will use this notebook also to extract some data and use them in a second moment:"
   ]
  },
  {
   "cell_type": "markdown",
   "id": "b4ce35e6",
   "metadata": {},
   "source": [
    "I want to see how the SFR is distributed across my catalogue. i.e. I want to compute the\n",
    "**SFR density function**\n",
    "\n",
    "I am extracting here the value array"
   ]
  },
  {
   "cell_type": "code",
   "execution_count": null,
   "id": "4ed086f4",
   "metadata": {},
   "outputs": [],
   "source": [
    "lSFR = hdul[1].data['logSFR']"
   ]
  },
  {
   "cell_type": "markdown",
   "id": "1b182d99",
   "metadata": {},
   "source": [
    "And once again I can see how this dataset is distributed"
   ]
  },
  {
   "cell_type": "code",
   "execution_count": null,
   "id": "1cfb78b4",
   "metadata": {},
   "outputs": [],
   "source": [
    "_ = plt.hist(lSFR, bins=100)"
   ]
  },
  {
   "cell_type": "markdown",
   "id": "27f4f037",
   "metadata": {},
   "source": [
    "Since I notice there is an excess of objects with the same SFR value (i.e. $\\log\\text{SFR} = -100$) I can conclude those are *flagged values* (i.e. no measurement is provided)"
   ]
  },
  {
   "cell_type": "code",
   "execution_count": null,
   "id": "03284e0f",
   "metadata": {},
   "outputs": [],
   "source": [
    "wSFR = lSFR>-100.0"
   ]
  },
  {
   "cell_type": "markdown",
   "id": "8361199a",
   "metadata": {},
   "source": [
    "To get the density I need the volume, what is the volume of a lightcone?\n",
    "\n",
    "$$V_\\text{FoV} = \\dfrac{\\Omega}{3}d_C^3(z)$$\n",
    "\n",
    "with $\\Omega$ solid angle and $d_C(z)$ the comoving distance.\n",
    "\n",
    "Some information I am giving you here \"for free\""
   ]
  },
  {
   "cell_type": "code",
   "execution_count": null,
   "id": "b308f4dd",
   "metadata": {},
   "outputs": [],
   "source": [
    "FoV = 5 # deg\n",
    "degrees_to_radians = numpy.pi / 180\n",
    "SolidAngle = (FoV*degrees_to_radians)**2\n",
    "Volume = 0.333333 * SolidAngle * (Planck18.comoving_distance(zz.max()))**3"
   ]
  },
  {
   "cell_type": "code",
   "execution_count": null,
   "id": "0e73a6d3",
   "metadata": {},
   "outputs": [],
   "source": [
    "Volume"
   ]
  },
  {
   "cell_type": "markdown",
   "id": "e02aa895",
   "metadata": {},
   "source": [
    "I can check once again the limits of my sample to get some indication of the bin limits. "
   ]
  },
  {
   "cell_type": "code",
   "execution_count": null,
   "id": "e0635be4",
   "metadata": {},
   "outputs": [],
   "source": [
    "lSFR[wSFR].min(), lSFR[wSFR].max()"
   ]
  },
  {
   "cell_type": "markdown",
   "id": "69e2d221",
   "metadata": {},
   "source": [
    "Compute the histogram"
   ]
  },
  {
   "cell_type": "code",
   "execution_count": null,
   "id": "a83cca50",
   "metadata": {},
   "outputs": [],
   "source": [
    "NlSFR, lSFR_bins = numpy.histogram( lSFR[wSFR], bins=numpy.linspace(-3, 1.5, 30) )\n",
    "lSFR_cens = 0.5*(lSFR_bins[1:]+lSFR_bins[:-1])"
   ]
  },
  {
   "cell_type": "markdown",
   "id": "ba95ee32",
   "metadata": {},
   "source": [
    "and get my **SUMMARY STATISTICS**"
   ]
  },
  {
   "cell_type": "code",
   "execution_count": null,
   "id": "6c4abfa2",
   "metadata": {},
   "outputs": [],
   "source": [
    "nlSFR = NlSFR / Volume.value\n",
    "nlSFR_err = numpy.sqrt( NlSFR ) / Volume.value"
   ]
  },
  {
   "cell_type": "code",
   "execution_count": null,
   "id": "43a06559",
   "metadata": {},
   "outputs": [],
   "source": [
    "fig, ax = plt.subplots(1,1)\n",
    "_ = ax.set(\n",
    "    xscale='log', yscale='log',\n",
    "    xlabel='$\\\\log [\\\\mathrm{SFR}/(M_\\\\star\\\\cdot\\\\mathrm{yr}^{-1})]$',\n",
    "    ylabel='$\\\\log n[\\\\mathrm{SFR}/(M_\\\\star\\\\cdot\\\\mathrm{yr}^{-1}\\\\cdot Mpc^{-3})]$'\n",
    ")\n",
    "_ = ax.errorbar(10**lSFR_cens, nlSFR, yerr=nlSFR_err, \n",
    "                marker='o', linestyle='none', color='k', label='data')"
   ]
  },
  {
   "cell_type": "code",
   "execution_count": null,
   "id": "df0696c7",
   "metadata": {},
   "outputs": [],
   "source": [
    "lSFR[wSFR].min(), lSFR[wSFR].max()"
   ]
  },
  {
   "cell_type": "code",
   "execution_count": null,
   "id": "5d051784",
   "metadata": {},
   "outputs": [],
   "source": [
    "lSFR_cens"
   ]
  },
  {
   "cell_type": "code",
   "execution_count": null,
   "id": "fb2bc7d4",
   "metadata": {},
   "outputs": [],
   "source": [
    "nlSFR"
   ]
  },
  {
   "cell_type": "code",
   "execution_count": null,
   "id": "2a338f14",
   "metadata": {},
   "outputs": [],
   "source": [
    "outfile = os.path.join(basedir, 'SFR_density_function')\n",
    "outfile"
   ]
  },
  {
   "cell_type": "markdown",
   "id": "10cd6a68",
   "metadata": {},
   "source": [
    "> Let's save the data (notice that I am ignoring the first and two-before-last data-points, why did I do that?) "
   ]
  },
  {
   "cell_type": "code",
   "execution_count": null,
   "id": "1ef875cf",
   "metadata": {},
   "outputs": [],
   "source": [
    "numpy.savez(outfile, lsfr = lSFR_cens[1:-2], nsfr = nlSFR[1:-2], nsfr_e = nlSFR_err[1:-2])"
   ]
  }
 ],
 "metadata": {
  "kernelspec": {
   "display_name": "Python 3 (ipykernel)",
   "language": "python",
   "name": "python3"
  },
  "language_info": {
   "codemirror_mode": {
    "name": "ipython",
    "version": 3
   },
   "file_extension": ".py",
   "mimetype": "text/x-python",
   "name": "python",
   "nbconvert_exporter": "python",
   "pygments_lexer": "ipython3",
   "version": "3.10.13"
  }
 },
 "nbformat": 4,
 "nbformat_minor": 5
}
