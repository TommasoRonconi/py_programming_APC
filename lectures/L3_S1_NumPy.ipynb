{
 "cells": [
  {
   "cell_type": "markdown",
   "id": "6eed25ea",
   "metadata": {},
   "source": [
    "# NumPy\n",
    "\n",
    "When you work with python (and with whatever other programming language actually), it is mandatory to know the instrument you are using.\n",
    "It is a matter of efficiency, both in terms of **SOFTWARE** as well as **WETWARE**."
   ]
  },
  {
   "cell_type": "code",
   "execution_count": null,
   "id": "261077aa",
   "metadata": {},
   "outputs": [],
   "source": [
    "import numpy"
   ]
  },
  {
   "cell_type": "markdown",
   "id": "bb8fa6c5",
   "metadata": {},
   "source": [
    "It is not standard but it is almost as it was in scientific computing using the Python programming language.\n",
    "\n",
    "> **DO NOT RE-INVENT THE WHEEL**\n",
    "\n",
    "It is built \n",
    "* to provide an efficient, intuitive and pythonic interface to Numerical computation\n",
    "* to bridge a gap between compiled-language standards on memory management\n",
    "* to simplify the user's life"
   ]
  },
  {
   "cell_type": "markdown",
   "id": "669f0237",
   "metadata": {},
   "source": [
    "**Implements A LOT of analytical functions and useful values** (very well optimised)\n",
    "\n",
    "Some examples:\n",
    "\n",
    "* logarithms and exponentials (i.e. ``numpy.exp``,``numpy.log``,``numpy.log10``)\n",
    "* trigonometric functions (e.g. ``numpy.sin``, ``numpy.cos``, and the inverse functions, and the hyperbolic versions)\n",
    "* statistical functions (e.g. ``numpy.mean``, ``numpy.std``)\n",
    "* mathematical constants (e.g. ``numpy.pi``, ``numpy.e``)"
   ]
  },
  {
   "cell_type": "markdown",
   "id": "eac542c1",
   "metadata": {},
   "source": [
    "## Array programming\n",
    "\n",
    "The building-block data-structure in NumPy is the N-dimensional array:\n",
    "\n",
    "* **constructors**"
   ]
  },
  {
   "cell_type": "code",
   "execution_count": null,
   "id": "ef53c698",
   "metadata": {},
   "outputs": [],
   "source": [
    "ar_from_shape = numpy.ndarray((2,3))\n",
    "type(ar_from_shape), ar_from_shape"
   ]
  },
  {
   "cell_type": "code",
   "execution_count": null,
   "id": "cf766f43",
   "metadata": {},
   "outputs": [],
   "source": [
    "ar_from_obj = numpy.array((2.,3))\n",
    "type(ar_from_obj), ar_from_obj"
   ]
  },
  {
   "cell_type": "markdown",
   "id": "f0cf6f33",
   "metadata": {},
   "source": [
    "and also:\n",
    "* ``numpy.linspace``, ``numpy.logspace``, ``numpy.arange``\n",
    "* ``numpy.ones``, ``numpy.zeros``, ``numpy.empty``\n",
    "* ``numpy.ones_like``, ``numpy.zeros_like``, ``numpy.empty_like``"
   ]
  },
  {
   "cell_type": "markdown",
   "id": "8f210de5",
   "metadata": {},
   "source": [
    "* **casting functions**"
   ]
  },
  {
   "cell_type": "code",
   "execution_count": null,
   "id": "a70a241d",
   "metadata": {},
   "outputs": [],
   "source": [
    "ls1 = [ 1, 2, 3 ]\n",
    "ar_from_ls = numpy.asarray(ls1) # <------\n",
    "type(ar_from_ls), ar_from_ls"
   ]
  },
  {
   "cell_type": "code",
   "execution_count": null,
   "id": "c94c2a0e",
   "metadata": {},
   "outputs": [],
   "source": [
    "ls2 = [ ls1, ls1 ]\n",
    "ar_from_ls_cont = numpy.ascontiguousarray(ls2) # <------\n",
    "type(ar_from_ls_cont), ar_from_ls_cont"
   ]
  },
  {
   "cell_type": "markdown",
   "id": "fb87d350",
   "metadata": {},
   "source": [
    "contiguity in memory is not guaranteed on the 1st dimension if you use ``numpy.array`` to cast something as above"
   ]
  },
  {
   "cell_type": "code",
   "execution_count": null,
   "id": "68cf1422",
   "metadata": {},
   "outputs": [],
   "source": [
    "ar_from_ls_cont[0] is ar_from_ls_cont[1]"
   ]
  },
  {
   "cell_type": "markdown",
   "id": "ec38b337",
   "metadata": {},
   "source": [
    "**MAIN CHARACTERISTICS**\n",
    "\n",
    "* uniform type: you should not use NDarrays to cast something like this"
   ]
  },
  {
   "cell_type": "code",
   "execution_count": null,
   "id": "12228ae7",
   "metadata": {},
   "outputs": [],
   "source": [
    "ar = numpy.array([1, 'hello', True])"
   ]
  },
  {
   "cell_type": "code",
   "execution_count": null,
   "id": "cadd0176",
   "metadata": {},
   "outputs": [],
   "source": [
    "ar.dtype, ar"
   ]
  },
  {
   "cell_type": "markdown",
   "id": "7004bc60",
   "metadata": {},
   "source": [
    "* N-dimensional"
   ]
  },
  {
   "cell_type": "code",
   "execution_count": null,
   "id": "1a7c8dd6",
   "metadata": {},
   "outputs": [],
   "source": [
    "diag1 = numpy.array( \n",
    "    [[1, 0],\n",
    "     [0, 1]]\n",
    ")\n",
    "diag1.shape, diag1.size"
   ]
  },
  {
   "cell_type": "markdown",
   "id": "c8801ba9",
   "metadata": {},
   "source": [
    "> **NOTE** that for the specific matrix we have built above there are specific functions\n",
    ">```python\n",
    "> >>> numpy.diag((1,1))\n",
    ">```\n",
    ">```\n",
    ">array([[1, 0],\n",
    ">       [0, 1]])\n",
    ">```\n",
    ">```python\n",
    "> >>> numpy.identity(2)\n",
    ">```\n",
    ">```\n",
    ">array([[1, 0],\n",
    ">       [0, 1]])\n",
    ">```"
   ]
  },
  {
   "cell_type": "markdown",
   "id": "cf25fb98",
   "metadata": {},
   "source": [
    "and specific functions to perform operations on it, e.g."
   ]
  },
  {
   "cell_type": "code",
   "execution_count": null,
   "id": "26948c6b",
   "metadata": {},
   "outputs": [],
   "source": [
    "diag1.diagonal()"
   ]
  },
  {
   "cell_type": "markdown",
   "id": "671cc6ae",
   "metadata": {},
   "source": [
    "* **Broadcasting** (vectorisation): at [this link](https://numpy.org/doc/stable/user/basics.broadcasting.html) the NumPy guide"
   ]
  },
  {
   "cell_type": "code",
   "execution_count": null,
   "id": "a753cdc1",
   "metadata": {},
   "outputs": [],
   "source": [
    "ar1 = numpy.array( [1,2,3,4] )"
   ]
  },
  {
   "cell_type": "code",
   "execution_count": null,
   "id": "18b14e5a",
   "metadata": {},
   "outputs": [],
   "source": [
    "# scalar operations\n",
    "ar1 * 10"
   ]
  },
  {
   "cell_type": "code",
   "execution_count": null,
   "id": "da91a2ed",
   "metadata": {},
   "outputs": [],
   "source": [
    "# same size arrays\n",
    "ar2 = numpy.array([4, 3, 2, 1])\n",
    "ar1 + ar2"
   ]
  },
  {
   "cell_type": "code",
   "execution_count": null,
   "id": "38ca781f",
   "metadata": {},
   "outputs": [],
   "source": [
    "# more complex shapes\n",
    "mat = numpy.array(\n",
    "    [[1, 2, 3, 4], \n",
    "     [5, 6, 7, 8]]\n",
    ")\n",
    "mat + ar1"
   ]
  },
  {
   "cell_type": "code",
   "execution_count": null,
   "id": "a3384356",
   "metadata": {},
   "outputs": [],
   "source": [
    "# but the order of the dimensions count\n",
    "mat.T + ar1"
   ]
  },
  {
   "cell_type": "markdown",
   "id": "c5633cba",
   "metadata": {},
   "source": [
    "So what happens when we have to broadcast an array-operation to some other array with different size?  "
   ]
  },
  {
   "cell_type": "code",
   "execution_count": null,
   "id": "1876be92",
   "metadata": {},
   "outputs": [],
   "source": [
    "x = numpy.array([1,2,3,4,5])\n",
    "y = numpy.logspace(0,6,7)\n",
    "x, x.size, y, y.size"
   ]
  },
  {
   "cell_type": "code",
   "execution_count": null,
   "id": "696d2b5d",
   "metadata": {},
   "outputs": [],
   "source": [
    "x*y"
   ]
  },
  {
   "cell_type": "markdown",
   "id": "b4342022",
   "metadata": {},
   "source": [
    "**CANNOT BE BROADCASTED!**\n",
    "\n",
    "But let's say I want to build a matrix in which each line is the result of the product of an element from the first array (``x``) and the second array (``y``), having therefore dimensions $5\\times7$ "
   ]
  },
  {
   "cell_type": "code",
   "execution_count": null,
   "id": "32ddf12b",
   "metadata": {},
   "outputs": [],
   "source": [
    "x.T * y"
   ]
  },
  {
   "cell_type": "markdown",
   "id": "0d9ef87c",
   "metadata": {},
   "source": [
    "We have the possibility to increase the number of axis of the first array"
   ]
  },
  {
   "cell_type": "code",
   "execution_count": null,
   "id": "8f41a567",
   "metadata": {},
   "outputs": [],
   "source": [
    "x[:, numpy.newaxis]"
   ]
  },
  {
   "cell_type": "code",
   "execution_count": null,
   "id": "964de118",
   "metadata": {},
   "outputs": [],
   "source": [
    "xy = x[:, numpy.newaxis]*y\n",
    "xy, xy.shape"
   ]
  },
  {
   "cell_type": "markdown",
   "id": "b4b836de",
   "metadata": {},
   "source": [
    "Or, if we want to do it the other way round:"
   ]
  },
  {
   "cell_type": "code",
   "execution_count": null,
   "id": "6157432b",
   "metadata": {},
   "outputs": [],
   "source": [
    "yx = x*y[:, numpy.newaxis]\n",
    "yx, yx.shape"
   ]
  },
  {
   "cell_type": "markdown",
   "id": "632b365e",
   "metadata": {},
   "source": [
    "This is the **MOST IMPORTANT FEATURE OF NUMPY** \n",
    "\n",
    "And if you are not, you can go back to not using numpy at all (I have shown you the tools are already there)\n",
    "\n",
    "Little demonstration:"
   ]
  },
  {
   "cell_type": "code",
   "execution_count": null,
   "id": "3acafced",
   "metadata": {},
   "outputs": [],
   "source": [
    "X = numpy.linspace(1,int(1e+3),int(1e+3))\n",
    "Y = numpy.logspace(0, 6, int(1.e+4))"
   ]
  },
  {
   "cell_type": "code",
   "execution_count": null,
   "id": "ad2c5505",
   "metadata": {},
   "outputs": [],
   "source": [
    "%%time\n",
    "out = []\n",
    "for x in X :\n",
    "    tmp = []\n",
    "    for y in Y :\n",
    "        tmp += [x * y]\n",
    "    out += [tmp]\n",
    "out = numpy.array(out)"
   ]
  },
  {
   "cell_type": "code",
   "execution_count": null,
   "id": "eb121900",
   "metadata": {},
   "outputs": [],
   "source": [
    "%time out = numpy.array([[x*y for y in Y] for x in X])\n",
    "out.shape"
   ]
  },
  {
   "cell_type": "code",
   "execution_count": null,
   "id": "6d3ff5f5",
   "metadata": {},
   "outputs": [],
   "source": [
    "%time out = X[:,numpy.newaxis]*Y"
   ]
  },
  {
   "cell_type": "markdown",
   "id": "36fdca92",
   "metadata": {},
   "source": [
    "#### Some CAVEATS"
   ]
  },
  {
   "cell_type": "markdown",
   "id": "bb099e65",
   "metadata": {},
   "source": [
    "> **WARNING** Even though uniform"
   ]
  },
  {
   "cell_type": "code",
   "execution_count": null,
   "id": "ae60f686",
   "metadata": {},
   "outputs": [],
   "source": [
    "class custom () :\n",
    "    def __init__ ( self, num ) :\n",
    "        self.num = num\n",
    "    def __repr__ ( self ) :\n",
    "        return f'custom({self.num})'\n",
    "    def __str__ (self) :\n",
    "        return self.__repr__()"
   ]
  },
  {
   "cell_type": "code",
   "execution_count": null,
   "id": "bc49d65a",
   "metadata": {},
   "outputs": [],
   "source": [
    "numpy.array( [ custom( i ) for i in range(3) ] )"
   ]
  },
  {
   "cell_type": "markdown",
   "id": "11a7b7a7",
   "metadata": {},
   "source": [
    "It's saved as a generic *object* type"
   ]
  },
  {
   "cell_type": "code",
   "execution_count": null,
   "id": "403049fe",
   "metadata": {},
   "outputs": [],
   "source": [
    "ar_custom = numpy.array( [ custom( i ) for i in range(3) ] )\n",
    "ar_custom *= 2"
   ]
  },
  {
   "cell_type": "markdown",
   "id": "fbc4ea25",
   "metadata": {},
   "source": [
    "**NumPy is not thought to do this kind of stuff**\n",
    "\n",
    "Even though you could work around the error above:\n",
    "\n",
    "```python\n",
    "    class custom () :\n",
    "        def __init__ ( self, num ) :\n",
    "            self.num = num\n",
    "        def __repr__ ( self ) :\n",
    "            return f'custom({self.num})'\n",
    "        def __str__ (self) :\n",
    "            return self.__repr__()\n",
    "        def __mul__ (self, other) :\n",
    "            return self.num * other\n",
    "        def __imul__ ( self, other ) :\n",
    "            return self.__mul__(other)\n",
    "```\n",
    "\n",
    "It is discouraged, because you won't know what other NumPy behaviour cannot be given to the custom object.\n",
    "\n",
    "> **NUMPY IS FOR PRIMORDIAL NUMERICAL VARIABLE TYPES**\n",
    ">\n",
    "> for custom objects better use other containers or organising the data differently\n",
    "\n",
    "### BUT WITH A BIT OF AWARENESS YOU CAN MAKE YOUR FUNCTIONS NUMPY COMPLIANT\n",
    "\n",
    "Which means that you want to favour broadcasting when you implement something:"
   ]
  },
  {
   "cell_type": "code",
   "execution_count": null,
   "id": "3473d44c",
   "metadata": {},
   "outputs": [],
   "source": [
    "def func_naive (x, y=10) :\n",
    "    from math import exp\n",
    "    return exp(x)/y"
   ]
  },
  {
   "cell_type": "code",
   "execution_count": null,
   "id": "727e543c",
   "metadata": {},
   "outputs": [],
   "source": [
    "X = numpy.linspace(0.0,1.0,100)"
   ]
  },
  {
   "cell_type": "code",
   "execution_count": null,
   "id": "3eca6e86",
   "metadata": {},
   "outputs": [],
   "source": [
    "func_naive(X)"
   ]
  },
  {
   "cell_type": "code",
   "execution_count": null,
   "id": "93971546",
   "metadata": {},
   "outputs": [],
   "source": [
    "%time fx = [func_naive(x) for x in X]"
   ]
  },
  {
   "cell_type": "code",
   "execution_count": null,
   "id": "17e001ef",
   "metadata": {},
   "outputs": [],
   "source": [
    "def func_numpy (x, y=10) :\n",
    "    from numpy import exp\n",
    "    return exp(x)/y"
   ]
  },
  {
   "cell_type": "code",
   "execution_count": null,
   "id": "88bf5e88",
   "metadata": {},
   "outputs": [],
   "source": [
    "%time fx = func_numpy(X)"
   ]
  },
  {
   "cell_type": "markdown",
   "id": "4096add0",
   "metadata": {},
   "source": [
    "**what about the second argument?**\n",
    "\n",
    "We have to make a choice, depending on the problem at end:\n",
    "\n",
    "* maybe the desired behaviour is to only accept scalars, then we should check for it"
   ]
  },
  {
   "cell_type": "code",
   "execution_count": null,
   "id": "5b04f49e",
   "metadata": {},
   "outputs": [],
   "source": [
    "def func_numpy_yscalar (x, y=10) :\n",
    "    from numpy import exp\n",
    "    if hasattr( y, '__len__' ) :\n",
    "        raise TypeError( 'argument `y` should be a scalar' )\n",
    "    return exp(x)/y"
   ]
  },
  {
   "cell_type": "markdown",
   "id": "de634706",
   "metadata": {},
   "source": [
    "* maybe instead we want it to\n",
    "    - accept scalars\n",
    "    - accept arrays of the same dimension\n",
    "    - broadcast automathically"
   ]
  },
  {
   "cell_type": "code",
   "execution_count": null,
   "id": "864f7631",
   "metadata": {},
   "outputs": [],
   "source": [
    "def func_numpy_ybroadcast (x, y=10) :\n",
    "    import numpy \n",
    "    # careful because these will also make copies\n",
    "    x = numpy.array(x)\n",
    "    y = numpy.array(y)\n",
    "    # store if the inputs were scalar\n",
    "    xscalar = False\n",
    "    if x.ndim == 0 :\n",
    "        x = x[None]\n",
    "        xscalar = True\n",
    "    yscalar = False\n",
    "    if y.ndim == 0 :\n",
    "        y = y[None]\n",
    "        yscalar = True\n",
    "    # add an axis if necessary\n",
    "    if not xscalar|yscalar and y.size != x.size :\n",
    "        x = x[:,numpy.newaxis]\n",
    "    ret = numpy.exp(x) / y\n",
    "    # if scalar input return a scalar\n",
    "    if xscalar & yscalar :\n",
    "        return ret.item()\n",
    "    return ret"
   ]
  },
  {
   "cell_type": "code",
   "execution_count": null,
   "id": "bc65842b",
   "metadata": {},
   "outputs": [],
   "source": [
    "a = func_numpy_ybroadcast( X )\n",
    "b = func_numpy_ybroadcast( 1, numpy.linspace(1.,2.,X.size) )\n",
    "c = func_numpy_ybroadcast( X, numpy.linspace(1.,2.,X.size) )\n",
    "d = func_numpy_ybroadcast( X, [1, 2, 3] )\n",
    "a.shape, b.shape, c.shape, d.shape"
   ]
  },
  {
   "cell_type": "markdown",
   "id": "3d5a5d73",
   "metadata": {},
   "source": [
    "We have though lost something for being able to do this:"
   ]
  },
  {
   "cell_type": "code",
   "execution_count": null,
   "id": "833695d7",
   "metadata": {},
   "outputs": [],
   "source": [
    "func_numpy_ybroadcast(1,2)"
   ]
  },
  {
   "cell_type": "markdown",
   "id": "f9cd0c7c",
   "metadata": {},
   "source": [
    "Can you tell me what the problem is with this implementation?"
   ]
  },
  {
   "cell_type": "markdown",
   "id": "9b8f7e67",
   "metadata": {},
   "source": [
    "### One last point on arrays: indexing and masking"
   ]
  },
  {
   "cell_type": "code",
   "execution_count": null,
   "id": "6c1d818e",
   "metadata": {},
   "outputs": [],
   "source": [
    "ar = numpy.arange(0, 100, 11)"
   ]
  },
  {
   "cell_type": "code",
   "execution_count": null,
   "id": "841c9946",
   "metadata": {},
   "outputs": [],
   "source": [
    "ar"
   ]
  },
  {
   "cell_type": "markdown",
   "id": "b470d60a",
   "metadata": {},
   "source": [
    "#### An array can be indexed:\n",
    "\n",
    "* with a single index"
   ]
  },
  {
   "cell_type": "code",
   "execution_count": null,
   "id": "405b6dd4",
   "metadata": {},
   "outputs": [],
   "source": [
    "ar[3]"
   ]
  },
  {
   "cell_type": "markdown",
   "id": "718cd931",
   "metadata": {},
   "source": [
    "* with a sequence of indexes"
   ]
  },
  {
   "cell_type": "code",
   "execution_count": null,
   "id": "12aa71a0",
   "metadata": {},
   "outputs": [],
   "source": [
    "indexes = [0, 3, 5]"
   ]
  },
  {
   "cell_type": "code",
   "execution_count": null,
   "id": "f85a84e7",
   "metadata": {},
   "outputs": [],
   "source": [
    "ar[indexes]"
   ]
  },
  {
   "cell_type": "markdown",
   "id": "a37b74c0",
   "metadata": {},
   "source": [
    "#### An array can be sliced: ``a[start:stop:step]``"
   ]
  },
  {
   "cell_type": "markdown",
   "id": "2ccb3592",
   "metadata": {},
   "source": [
    "* from the head"
   ]
  },
  {
   "cell_type": "code",
   "execution_count": null,
   "id": "862876ba",
   "metadata": {},
   "outputs": [],
   "source": [
    "ar[:3]"
   ]
  },
  {
   "cell_type": "markdown",
   "id": "fad0cdb8",
   "metadata": {},
   "source": [
    "* from the tail"
   ]
  },
  {
   "cell_type": "code",
   "execution_count": null,
   "id": "fc77414a",
   "metadata": {},
   "outputs": [],
   "source": [
    "ar[-3:]"
   ]
  },
  {
   "cell_type": "markdown",
   "id": "b737f666",
   "metadata": {},
   "source": [
    "* in the middle"
   ]
  },
  {
   "cell_type": "code",
   "execution_count": null,
   "id": "f76731d3",
   "metadata": {},
   "outputs": [],
   "source": [
    "ar[3:6]"
   ]
  },
  {
   "cell_type": "markdown",
   "id": "bcbfa9fb",
   "metadata": {},
   "source": [
    "* with some step"
   ]
  },
  {
   "cell_type": "code",
   "execution_count": null,
   "id": "f292e6f0",
   "metadata": {},
   "outputs": [],
   "source": [
    "ar[1:-1:2]"
   ]
  },
  {
   "cell_type": "markdown",
   "id": "9393d136",
   "metadata": {},
   "source": [
    "#### An array can be masked"
   ]
  },
  {
   "cell_type": "code",
   "execution_count": null,
   "id": "7b16fbbd",
   "metadata": {},
   "outputs": [],
   "source": [
    "weven = (ar%2 == 0)"
   ]
  },
  {
   "cell_type": "markdown",
   "id": "4552eaaa",
   "metadata": {},
   "source": [
    "A mask is a boolean array with the same dimension of the object you want to mask"
   ]
  },
  {
   "cell_type": "code",
   "execution_count": null,
   "id": "017adb29",
   "metadata": {},
   "outputs": [],
   "source": [
    "weven"
   ]
  },
  {
   "cell_type": "code",
   "execution_count": null,
   "id": "c8bb41b7",
   "metadata": {},
   "outputs": [],
   "source": [
    "ar[weven]"
   ]
  },
  {
   "cell_type": "markdown",
   "id": "b18f2d37",
   "metadata": {},
   "source": [
    "#### and the mask can be inverted"
   ]
  },
  {
   "cell_type": "code",
   "execution_count": null,
   "id": "169d5e6b",
   "metadata": {},
   "outputs": [],
   "source": [
    "ar[~weven]"
   ]
  },
  {
   "cell_type": "markdown",
   "id": "b37c420d",
   "metadata": {},
   "source": [
    "#### and two masks can be combined"
   ]
  },
  {
   "cell_type": "code",
   "execution_count": null,
   "id": "b2ec62fa",
   "metadata": {},
   "outputs": [],
   "source": [
    "wmaj50 = ( ar > 50 )"
   ]
  },
  {
   "cell_type": "code",
   "execution_count": null,
   "id": "c0abe0aa",
   "metadata": {},
   "outputs": [],
   "source": [
    "ar[weven&wmaj50]"
   ]
  },
  {
   "cell_type": "code",
   "execution_count": null,
   "id": "5cd9907f",
   "metadata": {},
   "outputs": [],
   "source": [
    "wdiv3 = (ar%3 == 0)"
   ]
  },
  {
   "cell_type": "code",
   "execution_count": null,
   "id": "52baaf9e",
   "metadata": {},
   "outputs": [],
   "source": [
    "ar[weven|wdiv3]"
   ]
  },
  {
   "cell_type": "markdown",
   "id": "7211fb71",
   "metadata": {},
   "source": [
    "#### And all of this can be done also on matrices with a bit more care"
   ]
  },
  {
   "cell_type": "code",
   "execution_count": null,
   "id": "81fa05f4",
   "metadata": {},
   "outputs": [],
   "source": [
    "mat = (ar[:, numpy.newaxis]) * numpy.flip(ar+1)"
   ]
  },
  {
   "cell_type": "code",
   "execution_count": null,
   "id": "e2603f2c",
   "metadata": {},
   "outputs": [],
   "source": [
    "mat = mat[1:]\n",
    "mat, mat.shape"
   ]
  },
  {
   "cell_type": "markdown",
   "id": "9d2b44d1",
   "metadata": {},
   "source": [
    "* slice in one of the two dimensions"
   ]
  },
  {
   "cell_type": "code",
   "execution_count": null,
   "id": "71d43a9b",
   "metadata": {},
   "outputs": [],
   "source": [
    "mat[2,:]"
   ]
  },
  {
   "cell_type": "code",
   "execution_count": null,
   "id": "9dcf53bf",
   "metadata": {},
   "outputs": [],
   "source": [
    "mat[:,3]"
   ]
  },
  {
   "cell_type": "markdown",
   "id": "e6e56129",
   "metadata": {},
   "source": [
    "* mask along all dimensions"
   ]
  },
  {
   "cell_type": "code",
   "execution_count": null,
   "id": "5c503fe8",
   "metadata": {},
   "outputs": [],
   "source": [
    "mat[mat%2==0]"
   ]
  },
  {
   "cell_type": "markdown",
   "id": "ecf4ed7b",
   "metadata": {},
   "source": [
    "Oh no! it has been flattened! This is because not all the lines had the same size.\n",
    "\n",
    "**be careful of the I/Os when you mask!**"
   ]
  },
  {
   "cell_type": "code",
   "execution_count": null,
   "id": "632d363f",
   "metadata": {},
   "outputs": [],
   "source": [
    "mask4lines = numpy.ones_like(mat[:,0], dtype=bool)\n",
    "mask4lines[-4:] = False\n",
    "mask4lines"
   ]
  },
  {
   "cell_type": "code",
   "execution_count": null,
   "id": "6b3bcdcf",
   "metadata": {},
   "outputs": [],
   "source": [
    "mat[mask4lines]"
   ]
  },
  {
   "cell_type": "code",
   "execution_count": null,
   "id": "7bb31dc4",
   "metadata": {},
   "outputs": [],
   "source": [
    "mask4cols = numpy.ones_like(mat[0], dtype=bool)\n",
    "mask4cols[-4:] = False\n",
    "mask4cols"
   ]
  },
  {
   "cell_type": "code",
   "execution_count": null,
   "id": "da452ba2",
   "metadata": {},
   "outputs": [],
   "source": [
    "mat[:,mask4cols]"
   ]
  },
  {
   "cell_type": "markdown",
   "id": "cc84d744",
   "metadata": {},
   "source": [
    "## Random\n",
    "\n",
    "NumPy implements **(pseudo-)RANDOM NUMBER GENERATORS** in the sub-package ``numpy.random`` ([here the docs](https://numpy.org/doc/stable/reference/random/index.html)).\n",
    "\n",
    "Generating random numbers is extremely useful in science for a lot of cases."
   ]
  },
  {
   "cell_type": "code",
   "execution_count": null,
   "id": "d2f578a2",
   "metadata": {},
   "outputs": [],
   "source": [
    "rng = numpy.random.default_rng( seed = 555 )"
   ]
  },
  {
   "cell_type": "markdown",
   "id": "b89b42f2",
   "metadata": {},
   "source": [
    "> **NOTE THAT** I am using a ``seed`` for **reproducibility**"
   ]
  },
  {
   "cell_type": "markdown",
   "id": "44f6dd47",
   "metadata": {},
   "source": [
    "Random number generation is embedded in the array-programming framework of NumPy:"
   ]
  },
  {
   "cell_type": "markdown",
   "id": "85298dcd",
   "metadata": {},
   "source": [
    "* **uniform distributions**"
   ]
  },
  {
   "cell_type": "code",
   "execution_count": null,
   "id": "d9ff2922",
   "metadata": {},
   "outputs": [],
   "source": [
    "rng.uniform(size=10)"
   ]
  },
  {
   "cell_type": "code",
   "execution_count": null,
   "id": "5a6c1c30",
   "metadata": {},
   "outputs": [],
   "source": [
    "help(rng.uniform)"
   ]
  },
  {
   "cell_type": "code",
   "execution_count": null,
   "id": "5b0aa408",
   "metadata": {},
   "outputs": [],
   "source": [
    "rng.integers(1, size=10, endpoint=True)"
   ]
  },
  {
   "cell_type": "markdown",
   "id": "984b1d82",
   "metadata": {},
   "source": [
    "* **non-uniform distributions**"
   ]
  },
  {
   "cell_type": "code",
   "execution_count": null,
   "id": "d3291576",
   "metadata": {},
   "outputs": [],
   "source": [
    "rng.normal(size=10)"
   ]
  },
  {
   "cell_type": "code",
   "execution_count": null,
   "id": "bac93cec",
   "metadata": {},
   "outputs": [],
   "source": [
    "rng.poisson(size=10)"
   ]
  },
  {
   "cell_type": "markdown",
   "id": "7030a9ba",
   "metadata": {},
   "source": [
    "### EXERCISE: sample from a custom non-uniform distribution"
   ]
  },
  {
   "cell_type": "code",
   "execution_count": null,
   "id": "40357d64",
   "metadata": {},
   "outputs": [],
   "source": [
    "import matplotlib.pyplot as plt"
   ]
  },
  {
   "cell_type": "code",
   "execution_count": null,
   "id": "2213b052",
   "metadata": {},
   "outputs": [],
   "source": [
    "def custom_cdf ( x ) :\n",
    "    return 1-(0.5 * ( numpy.cos(x) + 1 ) )"
   ]
  },
  {
   "cell_type": "code",
   "execution_count": null,
   "id": "5abfa338",
   "metadata": {},
   "outputs": [],
   "source": [
    "x = numpy.linspace(0, numpy.pi, 1024)\n",
    "fx = custom_cdf(x)"
   ]
  },
  {
   "cell_type": "code",
   "execution_count": null,
   "id": "5863a53f",
   "metadata": {},
   "outputs": [],
   "source": [
    "plt.plot(x, fx)"
   ]
  },
  {
   "cell_type": "code",
   "execution_count": null,
   "id": "6eac0a3b",
   "metadata": {},
   "outputs": [],
   "source": [
    "ydata = numpy.interp( \n",
    "    rng.uniform(size=4096), \n",
    "    fx,\n",
    "    x\n",
    ")"
   ]
  },
  {
   "cell_type": "code",
   "execution_count": null,
   "id": "bf7d8cd5",
   "metadata": {},
   "outputs": [],
   "source": [
    "ydata"
   ]
  },
  {
   "cell_type": "code",
   "execution_count": null,
   "id": "e9113fd4",
   "metadata": {},
   "outputs": [],
   "source": [
    "yhist, xbins = numpy.histogram(ydata, bins=(10))"
   ]
  },
  {
   "cell_type": "code",
   "execution_count": null,
   "id": "60bc8ee8",
   "metadata": {},
   "outputs": [],
   "source": [
    "ycums = yhist.cumsum()/ydata.size"
   ]
  },
  {
   "cell_type": "code",
   "execution_count": null,
   "id": "9635b384",
   "metadata": {
    "scrolled": false
   },
   "outputs": [],
   "source": [
    "plt.plot(x, fx)\n",
    "plt.step(xbins[1:], ycums)"
   ]
  },
  {
   "cell_type": "markdown",
   "id": "a6011566",
   "metadata": {},
   "source": [
    "Are they the same distribution???\n",
    "\n",
    "(you can try to increase the number of bins in the function above (e.g. ``numpy.histogram( ydata, bins=(100) )``)"
   ]
  },
  {
   "cell_type": "code",
   "execution_count": null,
   "id": "b12ddc84",
   "metadata": {},
   "outputs": [],
   "source": [
    "from scipy.stats import kstest\n",
    "kstest(ydata, custom_cdf).pvalue > 0.05"
   ]
  },
  {
   "cell_type": "markdown",
   "id": "1c11a3d0",
   "metadata": {},
   "source": [
    "**what about a PDF??**"
   ]
  },
  {
   "cell_type": "code",
   "execution_count": null,
   "id": "5e65323d",
   "metadata": {},
   "outputs": [],
   "source": [
    "def custom_pdf ( x ) :\n",
    "    return x * numpy.exp(-x)"
   ]
  },
  {
   "cell_type": "markdown",
   "id": "ea6db048",
   "metadata": {},
   "source": [
    "**you can try this yourself**"
   ]
  }
 ],
 "metadata": {
  "kernelspec": {
   "display_name": "Python 3 (ipykernel)",
   "language": "python",
   "name": "python3"
  },
  "language_info": {
   "codemirror_mode": {
    "name": "ipython",
    "version": 3
   },
   "file_extension": ".py",
   "mimetype": "text/x-python",
   "name": "python",
   "nbconvert_exporter": "python",
   "pygments_lexer": "ipython3",
   "version": "3.10.13"
  }
 },
 "nbformat": 4,
 "nbformat_minor": 5
}
